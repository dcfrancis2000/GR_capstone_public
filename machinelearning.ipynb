{
 "cells": [
  {
   "cell_type": "code",
   "execution_count": 167,
   "metadata": {},
   "outputs": [],
   "source": [
    "import sys\n",
    "import numpy as np\n",
    "import pandas as pd\n",
    "from sklearn.preprocessing import StandardScaler\n",
    "from sklearn.multioutput import MultiOutputRegressor, RegressorChain\n",
    "from sklearn.linear_model import LinearRegression, Ridge\n",
    "from sklearn.tree import DecisionTreeRegressor\n",
    "from sklearn.model_selection import cross_validate, KFold, LeaveOneOut\n",
    "from sklearn.kernel_ridge import KernelRidge\n",
    "from sklearn.ensemble import GradientBoostingRegressor\n",
    "from sklearn.cross_decomposition import PLSRegression\n",
    "from sklearn.feature_selection import RFE, RFECV\n",
    "from sklearn.metrics import mean_squared_error, make_scorer, pairwise\n",
    "import matplotlib.pyplot as plt"
   ]
  },
  {
   "cell_type": "code",
   "execution_count": 168,
   "metadata": {},
   "outputs": [],
   "source": [
    "np.set_printoptions(threshold=sys.maxsize)\n",
    "data = pd.read_csv('C:/Users/dcfra/GR_capstone_public/data/ML_data.csv') # already scaled\n",
    "del data['Unnamed: 0']\n",
    "n = data.shape[0]\n",
    "y_vars = ['AAL','SPEEDMAX','JUMPS','PHYSIOLOAD','EXERTIONS','DISTANCE']\n",
    "Y = np.array(StandardScaler().fit_transform(data[y_vars])) # 108 x 6\n",
    "indicators = pd.get_dummies(data[['HALF','ATHLETE']],dtype=float)\n",
    "features = data.drop(pd.Index(y_vars + ['ATHLETE','DATE','HALF']),axis=1)\n",
    "x_vars = list(indicators.columns) + list(features.columns)\n",
    "\n",
    "X_full = np.c_[np.array(indicators),StandardScaler().fit_transform(features)]\n",
    "X_one = np.ones((n,1))\n",
    "X_red = np.c_[np.array(indicators),StandardScaler().fit_transform(np.array(data.TIME).reshape(-1,1))]"
   ]
  },
  {
   "cell_type": "code",
   "execution_count": 169,
   "metadata": {},
   "outputs": [
    {
     "name": "stdout",
     "output_type": "stream",
     "text": [
      "(108, 18)\n"
     ]
    },
    {
     "data": {
      "text/html": [
       "<div>\n",
       "<style scoped>\n",
       "    .dataframe tbody tr th:only-of-type {\n",
       "        vertical-align: middle;\n",
       "    }\n",
       "\n",
       "    .dataframe tbody tr th {\n",
       "        vertical-align: top;\n",
       "    }\n",
       "\n",
       "    .dataframe thead th {\n",
       "        text-align: right;\n",
       "    }\n",
       "</style>\n",
       "<table border=\"1\" class=\"dataframe\">\n",
       "  <thead>\n",
       "    <tr style=\"text-align: right;\">\n",
       "      <th></th>\n",
       "      <th>DATE</th>\n",
       "      <th>HALF</th>\n",
       "      <th>TIME</th>\n",
       "      <th>AAL</th>\n",
       "      <th>SPEEDMAX</th>\n",
       "      <th>JUMPS</th>\n",
       "      <th>PHYSIOLOAD</th>\n",
       "      <th>EXERTIONS</th>\n",
       "      <th>DISTANCE</th>\n",
       "      <th>JUMP_HEIGHT_IMP_DIS</th>\n",
       "      <th>ECCENTRIC_MEAN_FORCE</th>\n",
       "      <th>TAKEOFF_PEAK_FORCE</th>\n",
       "      <th>CONCENTRIC_PEAK_FORCE</th>\n",
       "      <th>TOTAL_WORK</th>\n",
       "      <th>ECCENTRIC_DECELERATION_IMPULSE</th>\n",
       "      <th>CONCENTRIC_IMPULSE</th>\n",
       "      <th>POSITIVE_TAKEOFF_IMPULSE</th>\n",
       "    </tr>\n",
       "  </thead>\n",
       "  <tbody>\n",
       "    <tr>\n",
       "      <th>0</th>\n",
       "      <td>2023-11-08</td>\n",
       "      <td>2</td>\n",
       "      <td>37.783333</td>\n",
       "      <td>298.104293</td>\n",
       "      <td>5.515621</td>\n",
       "      <td>14</td>\n",
       "      <td>290.095548</td>\n",
       "      <td>67</td>\n",
       "      <td>1771.697621</td>\n",
       "      <td>44.824550</td>\n",
       "      <td>361.892323</td>\n",
       "      <td>927.2835</td>\n",
       "      <td>927.283522</td>\n",
       "      <td>924.436903</td>\n",
       "      <td>116.714353</td>\n",
       "      <td>209.474818</td>\n",
       "      <td>329.970152</td>\n",
       "    </tr>\n",
       "    <tr>\n",
       "      <th>1</th>\n",
       "      <td>2023-11-08</td>\n",
       "      <td>1</td>\n",
       "      <td>36.283333</td>\n",
       "      <td>455.827187</td>\n",
       "      <td>5.901390</td>\n",
       "      <td>19</td>\n",
       "      <td>467.087056</td>\n",
       "      <td>88</td>\n",
       "      <td>2852.636089</td>\n",
       "      <td>44.824550</td>\n",
       "      <td>361.892323</td>\n",
       "      <td>927.2835</td>\n",
       "      <td>927.283522</td>\n",
       "      <td>924.436903</td>\n",
       "      <td>116.714353</td>\n",
       "      <td>209.474818</td>\n",
       "      <td>329.970152</td>\n",
       "    </tr>\n",
       "    <tr>\n",
       "      <th>2</th>\n",
       "      <td>2023-11-12</td>\n",
       "      <td>2</td>\n",
       "      <td>44.016667</td>\n",
       "      <td>401.437078</td>\n",
       "      <td>5.768578</td>\n",
       "      <td>21</td>\n",
       "      <td>415.109247</td>\n",
       "      <td>99</td>\n",
       "      <td>2535.192538</td>\n",
       "      <td>43.525294</td>\n",
       "      <td>359.073153</td>\n",
       "      <td>892.2985</td>\n",
       "      <td>892.298307</td>\n",
       "      <td>906.341076</td>\n",
       "      <td>113.526805</td>\n",
       "      <td>205.833599</td>\n",
       "      <td>323.002744</td>\n",
       "    </tr>\n",
       "    <tr>\n",
       "      <th>3</th>\n",
       "      <td>2023-11-12</td>\n",
       "      <td>1</td>\n",
       "      <td>35.050000</td>\n",
       "      <td>346.990449</td>\n",
       "      <td>6.653042</td>\n",
       "      <td>13</td>\n",
       "      <td>356.234070</td>\n",
       "      <td>64</td>\n",
       "      <td>2175.624768</td>\n",
       "      <td>43.525294</td>\n",
       "      <td>359.073153</td>\n",
       "      <td>892.2985</td>\n",
       "      <td>892.298307</td>\n",
       "      <td>906.341076</td>\n",
       "      <td>113.526805</td>\n",
       "      <td>205.833599</td>\n",
       "      <td>323.002744</td>\n",
       "    </tr>\n",
       "    <tr>\n",
       "      <th>4</th>\n",
       "      <td>2023-12-06</td>\n",
       "      <td>2</td>\n",
       "      <td>30.250000</td>\n",
       "      <td>347.494722</td>\n",
       "      <td>5.785975</td>\n",
       "      <td>15</td>\n",
       "      <td>374.664116</td>\n",
       "      <td>94</td>\n",
       "      <td>2288.182410</td>\n",
       "      <td>42.245500</td>\n",
       "      <td>359.670721</td>\n",
       "      <td>885.9780</td>\n",
       "      <td>885.978153</td>\n",
       "      <td>912.667724</td>\n",
       "      <td>119.610594</td>\n",
       "      <td>204.663645</td>\n",
       "      <td>327.719492</td>\n",
       "    </tr>\n",
       "  </tbody>\n",
       "</table>\n",
       "</div>"
      ],
      "text/plain": [
       "         DATE  HALF       TIME         AAL  SPEEDMAX  JUMPS  PHYSIOLOAD  \\\n",
       "0  2023-11-08     2  37.783333  298.104293  5.515621     14  290.095548   \n",
       "1  2023-11-08     1  36.283333  455.827187  5.901390     19  467.087056   \n",
       "2  2023-11-12     2  44.016667  401.437078  5.768578     21  415.109247   \n",
       "3  2023-11-12     1  35.050000  346.990449  6.653042     13  356.234070   \n",
       "4  2023-12-06     2  30.250000  347.494722  5.785975     15  374.664116   \n",
       "\n",
       "   EXERTIONS     DISTANCE  JUMP_HEIGHT_IMP_DIS  ECCENTRIC_MEAN_FORCE  \\\n",
       "0         67  1771.697621            44.824550            361.892323   \n",
       "1         88  2852.636089            44.824550            361.892323   \n",
       "2         99  2535.192538            43.525294            359.073153   \n",
       "3         64  2175.624768            43.525294            359.073153   \n",
       "4         94  2288.182410            42.245500            359.670721   \n",
       "\n",
       "   TAKEOFF_PEAK_FORCE  CONCENTRIC_PEAK_FORCE  TOTAL_WORK  \\\n",
       "0            927.2835             927.283522  924.436903   \n",
       "1            927.2835             927.283522  924.436903   \n",
       "2            892.2985             892.298307  906.341076   \n",
       "3            892.2985             892.298307  906.341076   \n",
       "4            885.9780             885.978153  912.667724   \n",
       "\n",
       "   ECCENTRIC_DECELERATION_IMPULSE  CONCENTRIC_IMPULSE  \\\n",
       "0                      116.714353          209.474818   \n",
       "1                      116.714353          209.474818   \n",
       "2                      113.526805          205.833599   \n",
       "3                      113.526805          205.833599   \n",
       "4                      119.610594          204.663645   \n",
       "\n",
       "   POSITIVE_TAKEOFF_IMPULSE  \n",
       "0                329.970152  \n",
       "1                329.970152  \n",
       "2                323.002744  \n",
       "3                323.002744  \n",
       "4                327.719492  "
      ]
     },
     "execution_count": 169,
     "metadata": {},
     "output_type": "execute_result"
    }
   ],
   "source": [
    "print(data.shape)\n",
    "data.head().drop(\"ATHLETE\",axis=1)"
   ]
  },
  {
   "cell_type": "code",
   "execution_count": 176,
   "metadata": {},
   "outputs": [],
   "source": [
    "def response_cv(cv,var):\n",
    "    if type(var) == str:\n",
    "        return -np.mean(cv[f'test_{var}'])\n",
    "    else:\n",
    "        return [-np.mean(cv[f'test_{var_i}']) for var_i in var]\n",
    "    \n",
    "def rmse_score(y_true, y_pred,output_index):\n",
    "    return mean_squared_error(y_true[:, output_index], y_pred[:, output_index],squared = False)\n",
    "\n",
    "scorers = {\n",
    "    f'{y_vars[i]}': make_scorer(rmse_score, output_index=i, greater_is_better=False,response_method=\"predict\")\n",
    "    for i in range(Y.shape[1])\n",
    "}\n",
    "\n",
    "loo = LeaveOneOut()\n",
    "cv_one = cross_validate(MultiOutputRegressor(LinearRegression()), X_one,Y, cv=loo, scoring=scorers, return_train_score=False,verbose = 0,n_jobs = -1)\n",
    "cv_redreg = cross_validate(MultiOutputRegressor(LinearRegression()), X_red,Y, cv=loo, scoring=scorers, return_train_score=False,verbose = 0,n_jobs = -1)\n",
    "cv_fullreg = cross_validate(MultiOutputRegressor(LinearRegression()), X_full,Y, cv=loo, scoring=scorers, return_train_score=False,verbose = 0,n_jobs = -1)\n"
   ]
  },
  {
   "cell_type": "code",
   "execution_count": 171,
   "metadata": {},
   "outputs": [],
   "source": [
    "alphas = np.logspace(-4, 4, 100)\n",
    "folds =  KFold(n_splits=10)\n",
    "# Placeholder for the average LOOCV RMSE for each response and each alpha\n",
    "avg_loocv_rmse = np.zeros((6, len(alphas)))\n",
    "\n",
    "# Perform LOOCV for each response\n",
    "for i, alpha in enumerate(alphas):\n",
    "    rmses = np.zeros(6)\n",
    "    for response_index in range(6):\n",
    "        y = Y[:, response_index]\n",
    "        y_preds = np.zeros(n)\n",
    "        for train_index, test_index in folds.split(X_full):\n",
    "            X_train, X_test = X_full[train_index], X_full[test_index]\n",
    "            y_train, y_test = y[train_index], y[test_index]\n",
    "            model = Ridge(alpha=alpha)\n",
    "            model.fit(X_train, y_train)\n",
    "            y_preds[test_index] = model.predict(X_test)\n",
    "        rmse = np.sqrt(mean_squared_error(y, y_preds))\n",
    "        rmses[response_index] = rmse\n",
    "    avg_loocv_rmse[:, i] = rmses"
   ]
  },
  {
   "cell_type": "code",
   "execution_count": 177,
   "metadata": {},
   "outputs": [
    {
     "data": {
      "image/png": "[encoded data removed]",
      "text/plain": [
       "<Figure size 864x576 with 1 Axes>"
      ]
     },
     "metadata": {
      "needs_background": "light"
     },
     "output_type": "display_data"
    }
   ],
   "source": [
    "# Plot the average LOOCV RMSE for each response\n",
    "plt.figure(figsize=(12, 8))\n",
    "for response_index in range(6):\n",
    "    plt.plot(alphas, avg_loocv_rmse[response_index], label = y_vars[response_index])\n",
    "plt.xscale('log')\n",
    "plt.xlabel('Regularization parameter (alpha)')\n",
    "plt.ylabel('Average RMSE')\n",
    "plt.title('Average 10-Fold RMSE vs. Regularization parameter for each response')\n",
    "plt.legend()\n",
    "plt.grid(False)\n",
    "plt.show()"
   ]
  },
  {
   "cell_type": "code",
   "execution_count": 178,
   "metadata": {},
   "outputs": [
    {
     "name": "stdout",
     "output_type": "stream",
     "text": [
      "1.3219411484660315\n"
     ]
    }
   ],
   "source": [
    "min_index = int(np.squeeze(np.where(avg_loocv_rmse[4] == min(avg_loocv_rmse[4]))))\n",
    "alpha = alphas[min_index]\n",
    "print(alpha)"
   ]
  },
  {
   "cell_type": "code",
   "execution_count": 179,
   "metadata": {},
   "outputs": [],
   "source": [
    "# model = MultiOutputRegressor(LinearRegression())\n",
    "# model = MultiOutputRegressor(GradientBoostingRegressor())\n",
    "# model = RandomForestRegressor(n_estimators = 100,max_depth=20,n_jobs=-1)\n",
    "# model = RegressorChain(LinearRegression())\n",
    "model = Ridge(alpha = alpha)\n",
    "# model = PLSRegression(5,scale=False)\n",
    "# model = KernelRidge(kernel=\"poly\")\n"
   ]
  },
  {
   "cell_type": "code",
   "execution_count": 180,
   "metadata": {},
   "outputs": [
    {
     "data": {
      "text/plain": [
       "['ATHLETE_Akuel Kot',\n",
       " 'ATHLETE_Brendan Wenzel',\n",
       " 'ATHLETE_Caden Powell',\n",
       " 'ATHLETE_Cam Manyawu',\n",
       " 'ATHLETE_Sam Griffin',\n",
       " 'TIME',\n",
       " 'ECCENTRIC_MEAN_FORCE',\n",
       " 'TOTAL_WORK',\n",
       " 'ECCENTRIC_DECELERATION_IMPULSE',\n",
       " 'POSITIVE_TAKEOFF_IMPULSE']"
      ]
     },
     "execution_count": 180,
     "metadata": {},
     "output_type": "execute_result"
    }
   ],
   "source": [
    "rfe_model = RFECV(model,step=1,verbose=0,min_features_to_select=1,cv=loo,n_jobs=-1,scoring='neg_root_mean_squared_error')\n",
    "selector = rfe_model.fit(X_full,Y)\n",
    "[string for string, flag in zip(x_vars, selector.support_) if flag]"
   ]
  },
  {
   "cell_type": "code",
   "execution_count": 181,
   "metadata": {},
   "outputs": [
    {
     "name": "stdout",
     "output_type": "stream",
     "text": [
      "Intercept Only Prediction Error: [0.9999999999999999, 1.0, 0.9999999999999999, 1.0, 1.0, 1.0]\n",
      "Intercept Only Regression: [0.8321766632486501, 0.8066830240617088, 0.8184664372521508, 0.8195727721364716, 0.8379739347666294, 0.8489394624939431]\n",
      "Kinexon Only Regression: [0.6073845129515499, 0.6135239950244693, 0.6622404691045817, 0.6550994034215907, 0.4874632454698515, 0.5954516056827082]\n",
      "Full Model Regression: [0.6335552131226657, 0.6518834454932204, 0.7111319642480203, 0.6847763101880558, 0.4824851330406385, 0.6218268476935322]\n",
      "\n",
      "Kinexon Only Model: [0.6084610720805824, 0.6151707065014812, 0.6613866923269993, 0.656452421351873, 0.49394199421510954, 0.5982386556920845]\n",
      "Full Model: [0.619571959760036, 0.627586440214407, 0.6930523241167463, 0.6632772460341355, 0.4759490295581478, 0.6052680706846121]\n",
      "Reduced Model: [0.6021469461365204, 0.6067398432841138, 0.6705058320513392, 0.6488443754895518, 0.4837506585342457, 0.5897280334964939]\n"
     ]
    }
   ],
   "source": [
    "cv_red = cross_validate(model, X_red,Y, cv=loo, scoring=scorers, return_train_score=False,verbose = 0,n_jobs = -1)\n",
    "cv_full = cross_validate(model, X_full,Y, cv=loo, scoring=scorers, return_train_score=False,verbose = 0,n_jobs = -1)\n",
    "\n",
    "X_cut = X_full[:,selector.support_]\n",
    "cv_cut = cross_validate(model, X_cut,Y, cv=loo, scoring=scorers, return_train_score=False,verbose = 0,n_jobs = -1)\n",
    "print(f'Intercept Only Prediction Error: {[np.sqrt(mean_squared_error(Y[:,i],LinearRegression().fit(X_one,Y[:,i]).predict(X_one))) for i in range(0,6)]}')\n",
    "print(f'Intercept Only Regression: {response_cv(cv_one,y_vars)}')\n",
    "print(f'Kinexon Only Regression: {response_cv(cv_redreg,y_vars)}')\n",
    "print(f'Full Model Regression: {response_cv(cv_fullreg,y_vars)}')\n",
    "print('')\n",
    "print(f'Kinexon Only Model: {response_cv(cv_red,y_vars)}')\n",
    "print(f'Full Model: {response_cv(cv_full,y_vars)}')\n",
    "print(f'Reduced Model: {response_cv(cv_cut,y_vars)}')"
   ]
  }
 ],
 "metadata": {
  "kernelspec": {
   "display_name": "Python 3",
   "language": "python",
   "name": "python3"
  },
  "language_info": {
   "codemirror_mode": {
    "name": "ipython",
    "version": 3
   },
   "file_extension": ".py",
   "mimetype": "text/x-python",
   "name": "python",
   "nbconvert_exporter": "python",
   "pygments_lexer": "ipython3",
   "version": "3.10.11"
  }
 },
 "nbformat": 4,
 "nbformat_minor": 2
}
